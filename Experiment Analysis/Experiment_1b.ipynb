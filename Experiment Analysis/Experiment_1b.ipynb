{
 "cells": [
  {
   "cell_type": "code",
   "id": "initial_id",
   "metadata": {
    "collapsed": true
   },
   "source": [
    "import pandas as pd\n",
    "import numpy as np\n",
    "import matplotlib.pyplot as plt\n",
    "import seaborn as sns\n",
    "from Experiment_analysis import * \n",
    "import os"
   ],
   "outputs": [],
   "execution_count": null
  },
  {
   "metadata": {},
   "cell_type": "code",
   "source": [
    "import os\n",
    "PATH = 'data/exp1/exp1b/'\n",
    "prune_dict = {\"cpc\":[], \"mcc\":[], \"penc\":[]}\n",
    "\n",
    "for entry in os.scandir(PATH):\n",
    "    if entry.is_file():\n",
    "        _tmp = entry.name.split(\"_\")[0]         # this is env\n",
    "        if _tmp in prune_dict.keys():\n",
    "            if entry.name.split(\"_\")[1] == \"geo\":\n",
    "                prune_dict[_tmp].append(parse_broccoli2(entry,_tmp))\n",
    "            else:\n",
    "                print(entry.name)\n",
    "                prune_dict[_tmp].append(safe_parse(entry,_tmp))\n"
   ],
   "id": "c82eb83bbd4caf24",
   "outputs": [],
   "execution_count": null
  },
  {
   "metadata": {},
   "cell_type": "code",
   "source": [
    "df = pd.DataFrame(columns=[\"env\", \"id\", \"n_actions\", \"score\", \"n_trees\", \"n_calls\", \"runtime\"], index=None)\n",
    "\n",
    "for env in [\"mcc\",\"penc\",\"cpc\"]:\n",
    "    d_tmp = create_data_frame(prune_dict[env])\n",
    "    print(d_tmp)\n",
    "    for i in range(3):\n",
    "        df = df._append({\"env\":d_tmp[\"env\"][i], \n",
    "                         \"id\":d_tmp[\"id\"][i], \n",
    "                         \"n_actions\":d_tmp[\"n_actions\"][i], \n",
    "                         \"score\":d_tmp[\"score\"][i], \n",
    "                         \"n_trees\":d_tmp[\"n_trees\"][i], \n",
    "                        \"n_calls\":d_tmp[\"n_calls\"][i], \n",
    "                        \"runtime\":d_tmp[\"runtime\"][i]}, ignore_index=True)\n",
    "        \n",
    "    "
   ],
   "id": "f65e4a5df3afbc44",
   "outputs": [],
   "execution_count": null
  },
  {
   "metadata": {},
   "cell_type": "code",
   "source": "print(df)",
   "id": "2ae14736e3f133ad",
   "outputs": [],
   "execution_count": null
  },
  {
   "metadata": {},
   "cell_type": "code",
   "source": [
    "# Manually enter the missing runtime data \n",
    "df.loc[1,\"runtime\"] = 122.0\n",
    "df.loc[1,\"n_actions\"] = 9\n",
    "df.loc[5,\"runtime\"] = 4920\n",
    "df.loc[8,\"runtime\"] = 4.00\n",
    "print(df)\n"
   ],
   "id": "8f0793b86684c5d1",
   "outputs": [],
   "execution_count": null
  }
 ],
 "metadata": {
  "kernelspec": {
   "display_name": "Python 3",
   "language": "python",
   "name": "python3"
  },
  "language_info": {
   "codemirror_mode": {
    "name": "ipython",
    "version": 2
   },
   "file_extension": ".py",
   "mimetype": "text/x-python",
   "name": "python",
   "nbconvert_exporter": "python",
   "pygments_lexer": "ipython2",
   "version": "2.7.6"
  }
 },
 "nbformat": 4,
 "nbformat_minor": 5
}
