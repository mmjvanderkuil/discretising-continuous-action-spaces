{
 "cells": [
  {
   "metadata": {},
   "cell_type": "code",
   "source": [
    "import os\n",
    "\n",
    "import seaborn as sns\n",
    "from Experiment_analysis import *\n",
    "sns.set_style(\"darkgrid\")"
   ],
   "id": "7174d4c677abe44d",
   "outputs": [],
   "execution_count": null
  },
  {
   "metadata": {},
   "cell_type": "code",
   "source": [
    "ENVIRONMENTS = [\"mcc\",\"cpc\",\"penc\"]\n",
    "PATH = 'data/exp2/exp2SOT'\n",
    "prune_dict = {\"cpc\":[], \"mcc\":[], \"penc\":[]}\n",
    "\n",
    "for entry in os.scandir(PATH):\n",
    "    if entry.is_file():\n",
    "        _tmp = entry.name.split(\"_\")[2]         # this is env\n",
    "        if _tmp in ENVIRONMENTS:\n",
    "            prune_dict[_tmp].append(parse_broccoli2(entry,_tmp))\n",
    "print(prune_dict[\"cpc\"])"
   ],
   "id": "471e1aefa88e0c79",
   "outputs": [],
   "execution_count": null
  },
  {
   "metadata": {},
   "cell_type": "code",
   "source": [
    "unique_acts = {\"mcc\":0,\"cpc\":0,\"penc\":0}\n",
    "for key in prune_dict.keys():\n",
    "    actions = set()\n",
    "    for tree in prune_dict[key]:\n",
    "        [actions.add(action) for action in tree.actions]\n",
    "        print(tree.actions)\n",
    "    unique_acts[key] = len(actions)\n",
    "print(unique_acts)\n",
    "         \n",
    "    "
   ],
   "id": "e6438b02fe3dcb2f",
   "outputs": [],
   "execution_count": null
  },
  {
   "metadata": {},
   "cell_type": "code",
   "source": [
    "dfs = []\n",
    "for env in ENVIRONMENTS:\n",
    "    dfs.append(pd.DataFrame(create_data_frame(prune_dict[env])))\n",
    "\n",
    "print(dfs)"
   ],
   "id": "56b79c081a11db22",
   "outputs": [],
   "execution_count": null
  },
  {
   "metadata": {},
   "cell_type": "code",
   "source": [
    "mcc = dfs[0]\n",
    "cpc = dfs[1]\n",
    "penc = dfs[2]\n",
    "\n",
    "\n",
    "mcc[\"Final\"] = mcc[\"id\"]==0\n",
    "cpc[\"Final\"] = cpc[\"id\"]==8\n",
    "penc[\"Final\"] = penc[\"id\"]==0"
   ],
   "id": "a1b7ad502facf58a",
   "outputs": [],
   "execution_count": null
  },
  {
   "metadata": {},
   "cell_type": "code",
   "source": "print(mcc)",
   "id": "b7b547894c18de5e",
   "outputs": [],
   "execution_count": null
  },
  {
   "metadata": {},
   "cell_type": "code",
   "source": [
    "mcc_score_mean = mcc.loc[1:,\"score\"].mean()\n",
    "mcc_score_max = mcc.loc[1:,\"score\"].max()\n",
    "mcc_score_opt = mcc.loc[0,\"score\"]\n",
    "print(mcc_score_mean)\n",
    "print(mcc_score_max)\n",
    "print(mcc_score_opt)"
   ],
   "id": "ad7fecac8897ae02",
   "outputs": [],
   "execution_count": null
  },
  {
   "metadata": {},
   "cell_type": "code",
   "source": [
    "mcc_runtime_mean = mcc.loc[1:,\"runtime\"].mean()\n",
    "mcc_runtime_min = mcc.loc[1:,\"runtime\"].min()\n",
    "mcc_runtime_opt = mcc.loc[0,\"runtime\"]\n",
    "print(mcc_runtime_mean)\n",
    "print(mcc_runtime_min)\n",
    "print(mcc_runtime_opt)"
   ],
   "id": "45848b1a119f78c6",
   "outputs": [],
   "execution_count": null
  },
  {
   "metadata": {},
   "cell_type": "code",
   "source": [
    "cpc_score_mean = cpc.loc[1:,\"score\"].mean()\n",
    "cpc_score_max = cpc.loc[1:,\"score\"].max()\n",
    "cpc_score_opt = cpc.loc[0,\"score\"]\n",
    "print(cpc_score_mean)\n",
    "print(cpc_score_max)\n",
    "print(cpc_score_opt)\n",
    "cpc_runtime_mean = cpc.loc[:8,\"runtime\"].mean()\n",
    "cpc_runtime_min = cpc.loc[:8,\"runtime\"].min()\n",
    "cpc_runtime_opt = cpc.loc[8,\"runtime\"]\n",
    "print(cpc_runtime_mean)\n",
    "print(cpc_runtime_min)\n",
    "print(cpc_runtime_opt)"
   ],
   "id": "8a34b975ccb6e81d",
   "outputs": [],
   "execution_count": null
  },
  {
   "metadata": {},
   "cell_type": "code",
   "source": [
    "pc_score_mean = penc.loc[1:,\"score\"].mean()\n",
    "pc_score_max = penc.loc[1:,\"score\"].max()\n",
    "pc_score_opt = penc.loc[0,\"score\"]\n",
    "print(pc_score_mean-10000)\n",
    "print(pc_score_max-10000)\n",
    "print(pc_score_opt-10000)\n",
    "pc_runtime_mean = penc.loc[1:,\"runtime\"].mean()\n",
    "pc_runtime_min = penc.loc[1:,\"runtime\"].min()\n",
    "pc_runtime_opt = penc.loc[0,\"runtime\"]\n",
    "print(pc_runtime_mean)\n",
    "print(pc_runtime_min)\n",
    "print(pc_runtime_opt)"
   ],
   "id": "a84829c26100cf62",
   "outputs": [],
   "execution_count": null
  }
 ],
 "metadata": {
  "kernelspec": {
   "display_name": "Python 3",
   "language": "python",
   "name": "python3"
  },
  "language_info": {
   "codemirror_mode": {
    "name": "ipython",
    "version": 2
   },
   "file_extension": ".py",
   "mimetype": "text/x-python",
   "name": "python",
   "nbconvert_exporter": "python",
   "pygments_lexer": "ipython2",
   "version": "2.7.6"
  }
 },
 "nbformat": 4,
 "nbformat_minor": 5
}
