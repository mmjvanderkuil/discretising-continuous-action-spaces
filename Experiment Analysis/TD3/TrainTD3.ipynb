{
 "cells": [
  {
   "metadata": {},
   "cell_type": "code",
   "source": [
    "import math\n",
    "import numpy as np\n",
    "import gym\n",
    "import gymnasium\n",
    "from gym import spaces\n",
    "from gym.utils import seeding\n",
    "from stable_baselines3 import TD3, common\n",
    "import ContinuousCartPole as cpc"
   ],
   "id": "55f09286da3f3571",
   "outputs": [],
   "execution_count": null
  },
  {
   "metadata": {},
   "cell_type": "code",
   "source": "common.utils.set_random_seed(0)",
   "id": "c94201612cddcb8c",
   "outputs": [],
   "execution_count": null
  },
  {
   "metadata": {},
   "cell_type": "code",
   "source": [
    "_env = gymnasium.make(\"MountainCarContinuous-v0\")\n",
    "env = gym.make('MountainCarContinuous-v0')\n",
    "model = TD3(\"MlpPolicy\", _env, verbose=1)\n",
    "# Train the agent (increase timesteps for better performance)\n",
    "model.learn(total_timesteps=20_000, log_interval=10, progress_bar=True)\n",
    "model.save(\"td3-MountainCarContinuous-v0_003\")\n",
    "del model  # remove old model"
   ],
   "id": "2aaccfb891740127",
   "outputs": [],
   "execution_count": null
  },
  {
   "metadata": {},
   "cell_type": "code",
   "source": [
    "env = gym.make('Pendulum-v1')\n",
    "model = TD3(\"MlpPolicy\", env, verbose=1)\n",
    "# Train the agent (increase timesteps for better performance)\n",
    "model.learn(total_timesteps=20_000, log_interval=10, progress_bar=True)\n",
    "model.save(\"td3-Pendulum-v1\")\n",
    "del model  # remove old model\n"
   ],
   "id": "f1640fdac98524d9",
   "outputs": [],
   "execution_count": null
  },
  {
   "metadata": {},
   "cell_type": "code",
   "source": [
    "# Create environment and TD3 model\n",
    "env = cpc.ContinuousCartPoleEnv()\n",
    "model = TD3(\"MlpPolicy\", env, verbose=1)\n",
    "# Train the agent (increase timesteps for better performance)\n",
    "model.learn(total_timesteps=20_000, log_interval=10, progress_bar=True)\n",
    "model.save(\"td3-ContinuousCartPole\")\n",
    "del model  # remove old model"
   ],
   "id": "4a65b8d0d74067ca",
   "outputs": [],
   "execution_count": null
  },
  {
   "metadata": {},
   "cell_type": "code",
   "source": "",
   "id": "1a565da613eab35a",
   "outputs": [],
   "execution_count": null
  }
 ],
 "metadata": {
  "kernelspec": {
   "display_name": "Python 3",
   "language": "python",
   "name": "python3"
  },
  "language_info": {
   "codemirror_mode": {
    "name": "ipython",
    "version": 2
   },
   "file_extension": ".py",
   "mimetype": "text/x-python",
   "name": "python",
   "nbconvert_exporter": "python",
   "pygments_lexer": "ipython2",
   "version": "2.7.6"
  }
 },
 "nbformat": 4,
 "nbformat_minor": 5
}
