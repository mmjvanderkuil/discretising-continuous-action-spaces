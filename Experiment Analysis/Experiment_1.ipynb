{
 "cells": [
  {
   "cell_type": "code",
   "id": "initial_id",
   "metadata": {
    "collapsed": true
   },
   "source": [
    "import matplotlib.pyplot as plt\n",
    "import seaborn as sns\n",
    "import Experiment_analysis as exp1\n",
    "import os"
   ],
   "execution_count": null,
   "outputs": []
  },
  {
   "metadata": {},
   "cell_type": "code",
   "source": [
    "ENVIRONMENTS = []\n",
    "for name, element in exp1.Environment.__members__.items():\n",
    "    ENVIRONMENTS.append(name)\n",
    "    \n",
    "NV_DICT = exp1.Environment.__dict__"
   ],
   "id": "a6c4c266c7c822ff",
   "outputs": [],
   "execution_count": null
  },
  {
   "metadata": {},
   "cell_type": "code",
   "source": [
    "EXP1_PRUNE = \"data/exp1/prune\"\n",
    "EXP1_NO_PRUNE = \"data/exp1/no-prune\"\n",
    "\n",
    "prune_dict = {\"cpc\":[], \"mcc\":[], \"penc\":[]}\n",
    "\n",
    "for entry in os.scandir(EXP1_PRUNE):\n",
    "    if entry.is_file():\n",
    "        _tmp = entry.name.split(\"_\")[0]         # this is env\n",
    "        if _tmp in ENVIRONMENTS:\n",
    "            prune_dict[_tmp].append(exp1.parse_broccoli_output(entry,_tmp))\n",
    "\n",
    "no_prune_dict = {\"cpc\":[], \"mcc\":[], \"penc\":[]}\n",
    "\n",
    "for entry in os.scandir(EXP1_NO_PRUNE):\n",
    "    if entry.is_file():\n",
    "        _tmp = entry.name.split(\"_\")[0]         # this is env\n",
    "        if _tmp in ENVIRONMENTS:\n",
    "            no_prune_dict[_tmp].append(exp1.parse_broccoli_output(entry,_tmp))\n",
    "\n",
    "\n"
   ],
   "id": "6bdf84dd3f0d2a34",
   "outputs": [],
   "execution_count": null
  },
  {
   "metadata": {},
   "cell_type": "code",
   "source": [
    "# Pruned Data Dictionary\n",
    "pdd = {\"cpc\":[], \"mcc\":[], \"penc\":[]} \n",
    "for env in ENVIRONMENTS:\n",
    "    pdd[env] = exp1.create_data_frame(prune_dict[env])\n",
    "    \n",
    "# Normal Data Dictionary\n",
    "ndd = {\"cpc\":[], \"mcc\":[], \"penc\":[]} \n",
    "for env in ENVIRONMENTS:\n",
    "    ndd[env] = exp1.create_data_frame(no_prune_dict[env])\n"
   ],
   "id": "5244420af41f2c26",
   "outputs": [],
   "execution_count": null
  },
  {
   "metadata": {},
   "cell_type": "code",
   "source": [
    "fig, axes = plt.subplots(3,3, figsize=(18,12))\n",
    "fig.suptitle(\"Broccoli Performance on Discretized Action Spaces (Prune vs No Prune)\")\n",
    "sns.set_style(\"darkgrid\")\n",
    "for i, env in enumerate(ENVIRONMENTS):\n",
    "    sns.lineplot(ax=axes[i,0], x=pdd[env][\"n_actions\"], y=pdd[env][\"runtime\"],label=\"Pruned\", markers=True)\n",
    "    sns.lineplot(ax=axes[i,1], x=pdd[env][\"n_actions\"], y=pdd[env][\"n_trees\"],label=\"Pruned\", markers=True)\n",
    "    sns.lineplot(ax=axes[i,2], x=pdd[env][\"n_actions\"], y=pdd[env][\"n_calls\"],label=\"Pruned\", markers=True)\n",
    "\n",
    "    sns.lineplot(ax=axes[i,0], x=ndd[env][\"n_actions\"], y=ndd[env][\"runtime\"], label=\"No Pruning\", markers=True)\n",
    "    sns.lineplot(ax=axes[i,1], x=ndd[env][\"n_actions\"], y=ndd[env][\"n_trees\"], label=\"No Pruning\", markers=True)\n",
    "    sns.lineplot(ax=axes[i,2], x=ndd[env][\"n_actions\"], y=ndd[env][\"n_calls\"], label=\"No Pruning\", markers=True)\n",
    "\n",
    "    axes[i,0].set_xlim(4,9)\n",
    "    axes[i,0].set_ylim(0,)\n",
    "\n",
    "    axes[i,1].set_yscale(\"log\")\n",
    "    axes[i,1].set_xlim(4,9)\n",
    "\n",
    "    axes[i,2].set_yscale(\"log\")\n",
    "    axes[i,2].set_xlim(4,9)\n",
    "\n",
    "pad = 5\n",
    "for ax, col in zip(axes[0], [\"Runtime (s)\",\"Number of trees considered\", \"Number of environment calls\"]):\n",
    "    ax.annotate(col, xy=(0.5, 1), xytext=(0, pad),\n",
    "                xycoords='axes fraction', textcoords='offset points',\n",
    "                size='large', ha='center', va='baseline')\n",
    "\n",
    "for ax, row in zip(axes[:,0], ENVIRONMENTS):\n",
    "    ax.set_ylabel(NV_DICT[row].value)\n",
    "\n",
    "plt.savefig(\"plots/experiment_1/All_plots\")\n",
    "plt.plot()"
   ],
   "id": "d346a9c84e0ae7c3",
   "outputs": [],
   "execution_count": null
  },
  {
   "metadata": {},
   "cell_type": "code",
   "source": [
    "fig, axes = plt.subplots(ncols=2, figsize=(8,4))\n",
    "# fig.suptitle(\"Broccoli Performance on Uniformly Discretized Action Spaces (Prune vs No Prune)\")\n",
    "sns.set_style(\"darkgrid\")\n",
    "for  env in ['mcc']:\n",
    "    # sns.lineplot(ax=axes[i,0], x=pdd[env][\"n_actions\"], y=pdd[env][\"score\"])\n",
    "    sns.lineplot(ax=axes[0], x=pdd[env][\"n_actions\"], y=pdd[env][\"runtime\"],label=\"Pruned\", markers=True)\n",
    "    sns.lineplot(ax=axes[1], x=pdd[env][\"n_actions\"], y=pdd[env][\"n_trees\"],label=\"Pruned\", markers=True)\n",
    "    # sns.lineplot(ax=axes[2], x=pdd[env][\"n_actions\"], y=pdd[env][\"n_calls\"],label=\"Pruned\", markers=True)\n",
    "    \n",
    "    \n",
    "    # sns.lineplot(ax=axes[i,0], x=ndd[env][\"n_actions\"], y=ndd[env][\"score\"])\n",
    "    sns.lineplot(ax=axes[0], x=ndd[env][\"n_actions\"], y=ndd[env][\"runtime\"], label=\"No Pruning\", markers=True)\n",
    "    sns.lineplot(ax=axes[1], x=ndd[env][\"n_actions\"], y=ndd[env][\"n_trees\"], label=\"No Pruning\", markers=True)\n",
    "    # sns.lineplot(ax=axes[2], x=ndd[env][\"n_actions\"], y=ndd[env][\"n_calls\"], label=\"No Pruning\", markers=True)\n",
    "    \n",
    "    axes[0].set_ylabel(\"Runtime (s)\")\n",
    "    axes[0].set_xlim(4,9)\n",
    "    axes[0].set_ylim(0,)\n",
    "    \n",
    "    axes[1].set_ylabel(\"Number of trees explicitly considered\")\n",
    "    axes[1].set_ylim(0,)\n",
    "    # axes[1].set_yscale(\"log\")\n",
    "    axes[1].set_xlim(4,9)\n",
    "    axes[0].set_xlabel(\"Number of Actions\")\n",
    "    axes[1].set_xlabel(\"Number of Actions\")\n",
    "    \n",
    "    # axes[2].set_yscale(\"log\")\n",
    "    # axes[2].set_xlim(4,9)\n",
    "    \n",
    "# pad = 5\n",
    "# for ax, col in zip(axes[0], [\"Runtime (s)\",\"Number of trees considered\", \"Number of environment calls\"]):\n",
    "#     ax.annotate(col, xy=(0.5, 1), xytext=(0, pad),\n",
    "#                 xycoords='axes fraction', textcoords='offset points',\n",
    "#                 size='large', ha='center', va='baseline')\n",
    "\n",
    "# for ax, row in zip(axes[:,0], ENVIRONMENTS):\n",
    "\n",
    "    \n",
    "plt.savefig(\"plots/experiment_1/runtime_and_trees\")\n",
    "plt.plot()"
   ],
   "id": "43f25d9d0e7a6e7e",
   "outputs": [],
   "execution_count": null
  }
 ],
 "metadata": {
  "kernelspec": {
   "display_name": "Python 3",
   "language": "python",
   "name": "python3"
  },
  "language_info": {
   "codemirror_mode": {
    "name": "ipython",
    "version": 2
   },
   "file_extension": ".py",
   "mimetype": "text/x-python",
   "name": "python",
   "nbconvert_exporter": "python",
   "pygments_lexer": "ipython2",
   "version": "2.7.6"
  }
 },
 "nbformat": 4,
 "nbformat_minor": 5
}
