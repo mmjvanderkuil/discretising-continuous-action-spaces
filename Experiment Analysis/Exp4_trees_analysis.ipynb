{
 "cells": [
  {
   "cell_type": "code",
   "id": "initial_id",
   "metadata": {
    "collapsed": true
   },
   "source": [
    "import os\n",
    "\n",
    "import matplotlib.pyplot as plt\n",
    "import seaborn as sns\n",
    "from Experiment_analysis import *\n",
    "from  matplotlib.ticker import FuncFormatter\n",
    "sns.set_style(\"darkgrid\")"
   ],
   "outputs": [],
   "execution_count": null
  },
  {
   "metadata": {},
   "cell_type": "code",
   "source": [
    "ENVIRONMENTS = [\"mcc\",\"cpc\",\"penc\"]\n",
    "PATH = 'data/td3'\n",
    "prune_dict = {\"cpc\":[], \"mcc\":[], \"penc\":[]}\n",
    "\n",
    "for entry in os.scandir(PATH):\n",
    "    if entry.is_file():\n",
    "        _tmp = entry.name.split(\"_\")[2]         # this is env\n",
    "        if _tmp in ENVIRONMENTS:\n",
    "            prune_dict[_tmp].append(parse_broccoli2(entry,_tmp))"
   ],
   "id": "8300a1b0f4a0c1e7",
   "outputs": [],
   "execution_count": null
  },
  {
   "metadata": {},
   "cell_type": "code",
   "source": [
    "dfs = []\n",
    "for env in ENVIRONMENTS:\n",
    "    dfs.append(pd.DataFrame(create_data_frame(prune_dict[env])))\n",
    "\n",
    "print(dfs)"
   ],
   "id": "7989c44e3d7bd4da",
   "outputs": [],
   "execution_count": null
  },
  {
   "metadata": {},
   "cell_type": "code",
   "source": [
    "mcc = dfs[0]\n",
    "mcc[\"env\"] = \"\\n\\n\\n\\nMountain Car\\nContinuous\\n\"\n",
    "cpc = dfs[1]\n",
    "cpc[\"env\"] = \"\\n\\n\\n\\nCart Pole\\nContinuous\\n\"\n",
    "penc = dfs[2]\n",
    "penc[\"env\"] = \"\\n\\n\\n\\nPendulum\\n\\n\"\n",
    "penc[\"score\"] = penc[\"score\"]-10000\n",
    "penc.iloc[0,3] = None\n",
    "for env in [mcc, cpc, penc]:\n",
    "    env[\"n_actions\"] = env[\"n_actions\"].astype(int)"
   ],
   "id": "464e14277edc879d",
   "outputs": [],
   "execution_count": null
  },
  {
   "metadata": {},
   "cell_type": "code",
   "source": "sns.set(font_scale=1.2)",
   "id": "389075255294a4a5",
   "outputs": [],
   "execution_count": null
  },
  {
   "metadata": {},
   "cell_type": "code",
   "source": [
    "fig, axes = plt.subplots(1,3)\n",
    "fig.subplots_adjust(wspace=0.4)\n",
    "for i, str in enumerate([\"score\",\"runtime\",\"n_actions\"]):\n",
    "    sns.boxplot(mcc,ax=axes[i],y=str,width=0.8,fill=False,fliersize=0)\n",
    "    sns.stripplot(mcc,ax=axes[i],y=str,color=\"black\")\n",
    "    axes[i].set_xlabel([\"Score\",\"Runtime(s)\",\"Number of\\nActions\"][i])\n",
    "    axes[i].set_ylabel(\"\")\n",
    "    if str == \"n_actions\":\n",
    "        plt.yticks(np.arange(min(mcc[\"n_actions\"]), max(mcc[\"n_actions\"])+1, 1))\n",
    "        axes[i].yaxis.set_major_formatter(FuncFormatter(lambda x, _: int(x)))\n",
    "                                   \n",
    "                                \n",
    "plt.savefig(\"plots/td3_mcc\")\n",
    "plt.show()"
   ],
   "id": "335c4fce1edb2374",
   "outputs": [],
   "execution_count": null
  },
  {
   "metadata": {},
   "cell_type": "code",
   "source": [
    "fig, axes = plt.subplots(1,3)\n",
    "fig.subplots_adjust(wspace=0.4)\n",
    "for i, str in enumerate([\"score\",\"runtime\",\"n_actions\"]):\n",
    "    sns.boxplot(cpc,ax=axes[i],y=str,width=0.8,fill=False,fliersize=0)\n",
    "    sns.stripplot(cpc,ax=axes[i],y=str,color=\"black\")\n",
    "    axes[i].set_xlabel([\"Score\",\"Runtime(s)\",\"Number of\\nActions\"][i])\n",
    "    axes[i].set_ylabel(\"\")\n",
    "    if str == \"n_actions\":\n",
    "        plt.yticks(np.arange(min(cpc[\"n_actions\"]), max(cpc[\"n_actions\"])+1, 1))\n",
    "        axes[i].yaxis.set_major_formatter(FuncFormatter(lambda x, _: int(x)))\n",
    "    \n",
    "plt.savefig(\"plots/td3_cpc\")\n",
    "plt.show()"
   ],
   "id": "121735633d82a006",
   "outputs": [],
   "execution_count": null
  },
  {
   "metadata": {},
   "cell_type": "code",
   "source": [
    "fig, axes = plt.subplots(1,3)\n",
    "fig.subplots_adjust(wspace=0.4)\n",
    "\n",
    "for i, str in enumerate([\"score\",\"runtime\",\"n_actions\"]):\n",
    "    # if str == \"score\":\n",
    "    #     sns.boxplot(penc[1:],ax=axes[i],x=\"env\",y=str,width=0.8,fill=False,fliersize=0)\n",
    "    #     sns.stripplot(penc[1:],ax=axes[i],x=\"env\",y=str,color=\"black\")\n",
    "    sns.boxplot(penc,ax=axes[i],y=str,width=0.8,fill=False,fliersize=0)\n",
    "    sns.stripplot(penc,ax=axes[i],y=str,color=\"black\")\n",
    "    axes[i].set_xlabel([\"Score\",\"Runtime(s)\",\"Number of\\nActions\"][i])\n",
    "    axes[i].set_ylabel(\"\")\n",
    "    if str == \"n_actions\":\n",
    "        plt.yticks(np.arange(min(penc[\"n_actions\"]), max(penc[\"n_actions\"])+1, 1))\n",
    "        axes[i].yaxis.set_major_formatter(FuncFormatter(lambda x, _: int(x)))\n",
    "    \n",
    "    \n",
    "plt.savefig(\"plots/td3_penc\")\n",
    "plt.show()"
   ],
   "id": "741845c8d17c62d8",
   "outputs": [],
   "execution_count": null
  }
 ],
 "metadata": {
  "kernelspec": {
   "display_name": "Python 3",
   "language": "python",
   "name": "python3"
  },
  "language_info": {
   "codemirror_mode": {
    "name": "ipython",
    "version": 2
   },
   "file_extension": ".py",
   "mimetype": "text/x-python",
   "name": "python",
   "nbconvert_exporter": "python",
   "pygments_lexer": "ipython2",
   "version": "2.7.6"
  }
 },
 "nbformat": 4,
 "nbformat_minor": 5
}
