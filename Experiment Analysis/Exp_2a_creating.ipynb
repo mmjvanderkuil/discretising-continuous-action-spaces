{
 "cells": [
  {
   "cell_type": "code",
   "id": "initial_id",
   "metadata": {
    "collapsed": true
   },
   "source": [
    "from Experiment_analysis import *\n",
    "import numpy as np\n",
    "import pandas as pd\n",
    "import random\n",
    "import os\n",
    "\n",
    "ENVIRONMENTS = []\n",
    "for name, element in Environment.__members__.items():\n",
    "    ENVIRONMENTS.append(name)\n",
    "    \n",
    "NV_DICT = Environment.__dict__"
   ],
   "outputs": [],
   "execution_count": 9
  },
  {
   "metadata": {},
   "cell_type": "markdown",
   "source": "## Generating Experiment Files",
   "id": "6bf6517ab158eef"
  },
  {
   "metadata": {
    "ExecuteTime": {
     "end_time": "2025-06-12T13:47:31.827190Z",
     "start_time": "2025-06-12T13:47:31.823548Z"
    }
   },
   "cell_type": "code",
   "source": [
    "# Generate randomly generated actions\n",
    "n = 8\n",
    "k = 6\n",
    "scale = 1\n",
    "decimals = 2\n",
    "granularity = 10**decimals\n",
    "all_actions = []\n",
    "for env_i in range(3):\n",
    "    if env_i == 2:\n",
    "        scale = 2\n",
    "    actions = []\n",
    "    for i in range(n):\n",
    "        # Generate action between 0 and 1 on with step sizes of 0.01\n",
    "        _pos = [x/granularity for x in random.sample(range(scale*granularity), int(k/2))]\n",
    "        _ = [_pos.append(-x/granularity) for x in random.sample(range(scale*granularity), int(k/2))]\n",
    "        _acts = _pos   \n",
    "        _acts.sort()\n",
    "        print(_acts)\n",
    "        actions.append(_acts)\n",
    "    all_actions.append(actions)\n"
   ],
   "id": "7f20abfd8e095eff",
   "outputs": [
    {
     "name": "stdout",
     "output_type": "stream",
     "text": [
      "[-0.4, -0.26, -0.19, 0.07, 0.13, 0.9]\n",
      "[-0.86, -0.66, -0.63, 0.1, 0.56, 0.89]\n",
      "[-0.59, -0.54, -0.52, 0.53, 0.59, 0.75]\n",
      "[-0.88, -0.29, -0.22, 0.39, 0.79, 0.93]\n",
      "[-0.82, -0.69, -0.6, 0.16, 0.42, 0.9]\n",
      "[-0.22, -0.06, -0.01, 0.7, 0.82, 0.9]\n",
      "[-0.55, -0.53, -0.02, 0.14, 0.47, 0.48]\n",
      "[-0.83, -0.8, -0.77, 0.09, 0.91, 0.97]\n",
      "[-0.79, -0.67, -0.44, 0.37, 0.48, 0.84]\n",
      "[-0.68, -0.36, -0.35, 0.14, 0.47, 0.97]\n",
      "[-0.99, -0.6, -0.15, 0.39, 0.66, 0.85]\n",
      "[-0.76, -0.49, -0.03, 0.02, 0.31, 0.65]\n",
      "[-0.9, -0.48, -0.36, 0.05, 0.6, 0.78]\n",
      "[-0.82, -0.52, -0.44, 0.17, 0.19, 0.53]\n",
      "[-0.8, -0.07, -0.01, 0.0, 0.42, 0.81]\n",
      "[-0.72, -0.52, -0.16, 0.23, 0.29, 0.77]\n",
      "[-1.6, -1.27, -0.07, 0.62, 1.16, 1.21]\n",
      "[-1.07, -1.05, -0.51, 0.49, 1.38, 1.5]\n",
      "[-1.71, -1.12, -0.47, 0.07, 0.83, 1.77]\n",
      "[-0.37, -0.32, -0.3, 0.03, 0.24, 0.3]\n",
      "[-1.95, -0.6, -0.24, 0.64, 1.33, 1.58]\n",
      "[-1.67, -0.55, -0.51, 0.92, 1.42, 1.8]\n",
      "[-1.95, -1.37, -0.79, 0.0, 0.75, 1.85]\n",
      "[-1.82, -1.51, -0.81, 0.7, 1.09, 1.43]\n"
     ]
    }
   ],
   "execution_count": 2
  },
  {
   "metadata": {
    "ExecuteTime": {
     "end_time": "2025-06-12T13:47:31.829456Z",
     "start_time": "2025-06-12T13:47:31.827943Z"
    }
   },
   "cell_type": "code",
   "source": [
    "# run = \"echo 'exp2a cpc{}'\\n ./target/release/broccoli --env cpc --depth 2 --num-nodes 3 --num-iters 10000  --predicate-increment 0.1 0.1 0.05 0.1 --initial-state-values -0.05 0.05 0.05 0.05 --predicate-reasoning 1 --actions {} > small_tree_cpc_s={}.txt\"\n",
    "# \n",
    "# with open(\"action_exp/2a_cpc.sh\", \"w\") as f:\n",
    "#     for i, x in enumerate(all_actions[0]):\n",
    "#         string = \"\"\n",
    "#         for y in x:\n",
    "#             string += \"{:.3f} \".format(y)\n",
    "#         f.write(run.format(i,string, i))\n",
    "#         f.write(\"\\n\")\n",
    "        \n",
    "    "
   ],
   "id": "35949e44d8bcca58",
   "outputs": [],
   "execution_count": 3
  },
  {
   "metadata": {
    "ExecuteTime": {
     "end_time": "2025-06-05T10:00:51.102686Z",
     "start_time": "2025-06-05T10:00:51.101129Z"
    }
   },
   "cell_type": "code",
   "source": [
    "# run = \"echo 'exp2a mcc{}'\\n ./target/release/broccoli --env mcc --depth 2 --num-nodes 3 --num-iters 1000 --predicate-increment 0.1 0.01 --initial-state-values -0.5 0 --predicate-reasoning 1 --actions {} > small_tree_mcc_s={}.txt\"\n",
    "# \n",
    "# \n",
    "# with open(\"action_exp/2a_mcc.sh\", \"w\") as f:\n",
    "#     \n",
    "#     for i, x in enumerate(all_actions[1]):\n",
    "#         string = \"\"\n",
    "#         for y in x:\n",
    "#             string += \"{:.3f} \".format(y)\n",
    "#         f.write(run.format(i,string, i))\n",
    "#         f.write(\"\\n\")\n",
    "        \n",
    "    "
   ],
   "id": "a54232bd7611d0b5",
   "outputs": [],
   "execution_count": 4
  },
  {
   "metadata": {
    "ExecuteTime": {
     "end_time": "2025-06-12T13:46:37.599725Z",
     "start_time": "2025-06-12T13:46:37.586072Z"
    }
   },
   "cell_type": "code",
   "source": [
    "run = \"echo 'exp2a penc{}'\\n ./target/release/broccoli --env penc --depth 2 --num-nodes 3 --num-iters 100 --predicate-increment 0.1 0.1 --initial-state-values 0.5 0 --predicate-reasoning 1 --actions {} > small_tree_penc_s={}.txt\"\n",
    "\n",
    "with open(\"action_exp/2a_penc.sh\", \"w\") as f:\n",
    "\n",
    "    for i, x in enumerate(all_actions[2]):\n",
    "        string = \"\"\n",
    "        for y in x:\n",
    "            string += \"{:.3f} \".format(y)\n",
    "        f.write(run.format(i,string, i))\n",
    "        f.write(\"\\n\")\n",
    "\n",
    "#     "
   ],
   "id": "af5da9679c1aecd5",
   "outputs": [
    {
     "ename": "NameError",
     "evalue": "name 'all_actions' is not defined",
     "output_type": "error",
     "traceback": [
      "\u001B[0;31m---------------------------------------------------------------------------\u001B[0m",
      "\u001B[0;31mNameError\u001B[0m                                 Traceback (most recent call last)",
      "Cell \u001B[0;32mIn[27], line 5\u001B[0m\n\u001B[1;32m      1\u001B[0m run \u001B[38;5;241m=\u001B[39m \u001B[38;5;124m\"\u001B[39m\u001B[38;5;124mecho \u001B[39m\u001B[38;5;124m'\u001B[39m\u001B[38;5;124mexp2a penc\u001B[39m\u001B[38;5;132;01m{}\u001B[39;00m\u001B[38;5;124m'\u001B[39m\u001B[38;5;130;01m\\n\u001B[39;00m\u001B[38;5;124m ./target/release/broccoli --env penc --depth 2 --num-nodes 3 --num-iters 100 --action-policy none --predicate-increment 0.1 0.1 --initial-state-values 0.5 0 --predicate-reasoning 1 --actions \u001B[39m\u001B[38;5;132;01m{}\u001B[39;00m\u001B[38;5;124m > small_tree_penc_s=\u001B[39m\u001B[38;5;132;01m{}\u001B[39;00m\u001B[38;5;124m.txt\u001B[39m\u001B[38;5;124m\"\u001B[39m\n\u001B[1;32m      3\u001B[0m \u001B[38;5;28;01mwith\u001B[39;00m \u001B[38;5;28mopen\u001B[39m(\u001B[38;5;124m\"\u001B[39m\u001B[38;5;124maction_exp/2a_penc.sh\u001B[39m\u001B[38;5;124m\"\u001B[39m, \u001B[38;5;124m\"\u001B[39m\u001B[38;5;124mw\u001B[39m\u001B[38;5;124m\"\u001B[39m) \u001B[38;5;28;01mas\u001B[39;00m f:\n\u001B[0;32m----> 5\u001B[0m     \u001B[38;5;28;01mfor\u001B[39;00m i, x \u001B[38;5;129;01min\u001B[39;00m \u001B[38;5;28menumerate\u001B[39m(\u001B[43mall_actions\u001B[49m[\u001B[38;5;241m2\u001B[39m]):\n\u001B[1;32m      6\u001B[0m         string \u001B[38;5;241m=\u001B[39m \u001B[38;5;124m\"\u001B[39m\u001B[38;5;124m\"\u001B[39m\n\u001B[1;32m      7\u001B[0m         \u001B[38;5;28;01mfor\u001B[39;00m y \u001B[38;5;129;01min\u001B[39;00m x:\n",
      "\u001B[0;31mNameError\u001B[0m: name 'all_actions' is not defined"
     ]
    }
   ],
   "execution_count": 27
  },
  {
   "metadata": {},
   "cell_type": "markdown",
   "source": "## Analysis",
   "id": "d4959bb4281ba516"
  },
  {
   "metadata": {},
   "cell_type": "code",
   "source": [
    "import os\n",
    "PATH = 'data/exp2/exp2SOT'\n",
    "prune_dict = {\"cpc\":[], \"mcc\":[], \"penc\":[]}\n",
    "\n",
    "for entry in os.scandir(PATH):\n",
    "    if entry.is_file():\n",
    "        _tmp = entry.name.split(\"_\")[2]         # this is env\n",
    "        if _tmp in ENVIRONMENTS:\n",
    "            prune_dict[_tmp].append(parse_broccoli2(entry,_tmp))\n"
   ],
   "id": "1e53add8d60a0d59",
   "outputs": [],
   "execution_count": 10
  },
  {
   "metadata": {},
   "cell_type": "code",
   "source": [
    "dfs = []\n",
    "for env in ENVIRONMENTS:\n",
    "    dfs.append(pd.DataFrame(create_data_frame(prune_dict[env])))\n",
    "\n",
    "print(dfs)"
   ],
   "id": "f3f16be93b715ab8",
   "outputs": [],
   "execution_count": 11
  },
  {
   "metadata": {},
   "cell_type": "code",
   "source": [
    "results = dfs[2]\n",
    "results.head(100)"
   ],
   "id": "fceccdd8cfeafa12",
   "outputs": [],
   "execution_count": 4
  },
  {
   "metadata": {},
   "cell_type": "code",
   "source": [
    "top = 3\n",
    "indices_mcc = results.sort_values(\"score\").index[-top:]\n",
    "print(indices_mcc)\n",
    "good_outputs = []\n",
    "actions = []\n",
    "for i in indices_mcc:\n",
    "    broc = prune_dict[\"cpc\"][i]\n",
    "    good_outputs.append(broc)\n",
    "    # print(f\"id: {i}, score: {broc.score:.3f}\")\n",
    "    g_actions = get_actions(broc.tree, broc.actions)\n",
    "    print(f\"Used actions: {g_actions}\")\n",
    "    for action in g_actions.values():\n",
    "        actions.append(action)\n",
    "print(actions)"
   ],
   "id": "4659fd8d93dcbd69",
   "outputs": [],
   "execution_count": 12
  },
  {
   "metadata": {},
   "cell_type": "code",
   "source": [
    "n_actions = 10\n",
    "final_actions = []\n",
    "for a, c in actions:\n",
    "    final_actions.append(a)\n",
    "        \n",
    "sorted_actions = sorted(final_actions)\n",
    "print(sorted_actions)\n",
    "\n",
    "            \n",
    "    "
   ],
   "id": "f829d5503eb07729",
   "outputs": [],
   "execution_count": 6
  },
  {
   "metadata": {},
   "cell_type": "code",
   "source": [
    "run_cpc = \"echo 'exp2a cp final' \\n./target/release/broccoli --env cpc --depth 2 --num-nodes 3 --num-iters 10000 --action-policy none --predicate-increment 0.1 0.1 0.05 0.1 --initial-state-values -0.05 0.05 0.05 0.05 --predicate-reasoning 1 --actions {} > small_trees_cpc_final.txt\"\n",
    "run_penc = \"echo 'exp2a penc final' \\n./target/release/broccoli --env penc --depth 2 --num-nodes 3 --num-iters 100 --action-policy none --predicate-increment 0.1 0.1 --initial-state-values 0.5 0 --predicate-reasoning 1 --actions {}  > small_trees_penc_final.txt\"\n",
    "run_mcc = \"echo 'exp2a mcc final' \\n./target/release/broccoli --env mcc --depth 2 --num-nodes 3 --num-iters 1000 --action-policy none --predicate-increment 0.1 0.014 --initial-state-values -0.5 0.0 --predicate-reasoning 1 --actions {} > small_trees_mcc_final.txt\"\n",
    "\n",
    "###### CHANGE THIS ######\n",
    "run = run_cpc\n",
    "string = \"\"\n",
    "for y in sorted_actions:\n",
    "    string += \"{:.3f} \".format(y)\n",
    "\n",
    "###### CHANGE THIS ######\n",
    "with open(\"action_exp/2b_cpc_final.sh\", \"w\") as f:\n",
    "    f.write(run.format(string))\n",
    "    f.write(\"\\n\")\n",
    "\n"
   ],
   "id": "39017f52d78ef028",
   "outputs": [],
   "execution_count": 7
  },
  {
   "metadata": {},
   "cell_type": "markdown",
   "source": "# Final Analysis",
   "id": "a30db3b855724473"
  },
  {
   "metadata": {},
   "cell_type": "code",
   "outputs": [],
   "execution_count": null,
   "source": "",
   "id": "9177323fb69bb4d6"
  }
 ],
 "metadata": {
  "kernelspec": {
   "display_name": "Python 3",
   "language": "python",
   "name": "python3"
  },
  "language_info": {
   "codemirror_mode": {
    "name": "ipython",
    "version": 2
   },
   "file_extension": ".py",
   "mimetype": "text/x-python",
   "name": "python",
   "nbconvert_exporter": "python",
   "pygments_lexer": "ipython2",
   "version": "2.7.6"
  }
 },
 "nbformat": 4,
 "nbformat_minor": 5
}
